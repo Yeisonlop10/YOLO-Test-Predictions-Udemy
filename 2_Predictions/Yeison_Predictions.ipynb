{
 "cells": [
  {
   "cell_type": "code",
   "execution_count": 1,
   "id": "b383617f-7800-4d75-b749-c763c889b863",
   "metadata": {},
   "outputs": [],
   "source": [
    "# import\n",
    "import cv2\n",
    "from yolo_predictions_Yeison import YOLO_Pred"
   ]
  },
  {
   "cell_type": "code",
   "execution_count": 2,
   "id": "a663e156-7a0f-4ee7-aae9-78a2609be85b",
   "metadata": {},
   "outputs": [],
   "source": [
    "# initialize with our model and yaml\n",
    "yolo = YOLO_Pred('./Model/weights/best.onnx','data.yaml')"
   ]
  },
  {
   "cell_type": "code",
   "execution_count": null,
   "id": "5fb92fb6-b599-4914-a1fd-78f92fd1542e",
   "metadata": {},
   "outputs": [],
   "source": [
    "img = cv2.imread('./street_image.jpg')\n",
    "\n",
    "cv2.imshow('img',img)\n",
    "# cv2.waitKey(0)\n",
    "# cv2.destroyAllWindows()\n",
    "cv2.startWindowThread()\n",
    "cv2.destroyAllWindows()\n",
    "for i in ran1ge(2):\n",
    "    cv2.waitKey(1)"
   ]
  },
  {
   "cell_type": "code",
   "execution_count": null,
   "id": "86e61ee2-3778-4842-bacf-a285b4f97b77",
   "metadata": {},
   "outputs": [],
   "source": [
    "# predictions\n",
    "img_pred = yolo.predictions(img)"
   ]
  },
  {
   "cell_type": "code",
   "execution_count": null,
   "id": "01ba2cb9-6083-46aa-9c9c-d314f9331960",
   "metadata": {},
   "outputs": [],
   "source": [
    "cv2.imshow('prediction image',img_pred)\n",
    "cv2.startWindowThread()\n",
    "cv2.destroyAllWindows()\n",
    "for i in range(2):\n",
    "    cv2.waitKey(1)"
   ]
  },
  {
   "cell_type": "markdown",
   "id": "6d07b095-b02e-4165-8896-2219fccd22ca",
   "metadata": {},
   "source": [
    "Real Time Object Detection"
   ]
  },
  {
   "cell_type": "code",
   "execution_count": 3,
   "id": "241af9b5-42a7-4bd9-b6c1-efda0263b1c9",
   "metadata": {},
   "outputs": [
    {
     "name": "stdout",
     "output_type": "stream",
     "text": [
      "unable to read video\n"
     ]
    },
    {
     "data": {
      "text/plain": [
       "-1"
      ]
     },
     "execution_count": 3,
     "metadata": {},
     "output_type": "execute_result"
    }
   ],
   "source": [
    "cap = cv2.VideoCapture('video.mp4')\n",
    "\n",
    "\n",
    "while True:\n",
    "    ret, frame = cap.read()\n",
    "    if ret == False:\n",
    "        print('unable to read video')\n",
    "        break\n",
    "        \n",
    "    try:\n",
    "\n",
    "        pred_image = yolo.predictions(frame)\n",
    "    except:\n",
    "        pass\n",
    "    cv2.imshow('YOLO',pred_image)\n",
    "    if cv2.waitKey(1) == 27:\n",
    "        break\n",
    "        \n",
    "cv2.destroyAllWindows()\n",
    "cap.release()\n",
    "cv2.destroyAllWindows()\n",
    "cv2.waitKey(1)"
   ]
  },
  {
   "cell_type": "code",
   "execution_count": null,
   "id": "d860ea06-cae9-4375-b5b2-959993b2c58f",
   "metadata": {},
   "outputs": [],
   "source": []
  }
 ],
 "metadata": {
  "kernelspec": {
   "display_name": "Python 3 (ipykernel)",
   "language": "python",
   "name": "python3"
  },
  "language_info": {
   "codemirror_mode": {
    "name": "ipython",
    "version": 3
   },
   "file_extension": ".py",
   "mimetype": "text/x-python",
   "name": "python",
   "nbconvert_exporter": "python",
   "pygments_lexer": "ipython3",
   "version": "3.9.18"
  }
 },
 "nbformat": 4,
 "nbformat_minor": 5
}
